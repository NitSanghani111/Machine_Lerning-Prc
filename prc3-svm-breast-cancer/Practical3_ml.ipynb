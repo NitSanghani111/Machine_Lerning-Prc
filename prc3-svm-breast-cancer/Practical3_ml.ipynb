{
 "cells": [
  {
   "cell_type": "code",
   "execution_count": null,
   "id": "b6b2fe5d",
   "metadata": {
    "vscode": {
     "languageId": "plaintext"
    }
   },
   "outputs": [],
   "source": [
    "# Step 1: Import Libraries from sklearn import datasets\n",
    "from sklearn.model_selection import train_test_split from sklearn.svm import SVC\n",
    "from sklearn.preprocessing import StandardScaler\n",
    "from sklearn.metrics import classification_report, accuracy_score\n",
    "\n",
    "# Step 2: Load dataset\n",
    "data = datasets.load_breast_cancer()\n",
    "X, y = data.data, data.target\n",
    "\n",
    "# Step 3: Split data\n",
    "X_train, X_test, y_train, y_test = train_test_split(X, y, test_size=0.2, random_state=42)\n",
    "\n",
    "# Step 4: Feature scaling scaler = StandardScaler()\n",
    "X_train = scaler.fit_transform(X_train) X_test = scaler.transform(X_test)\n",
    "\n",
    "# Step 5: Train SVM model\n",
    "svm = SVC(kernel='linear', random_state=42) svm.fit(X_train, y_train)\n",
    "# Step 6 & 7: Predict and evaluate y_pred = svm.predict(X_test)\n",
    "print(f\"Accuracy: {accuracy_score(y_test, y_pred) * 100:.2f}%\") print(\"\\nClassification Report:\\n\", classification_report(y_test, y_pred))\n",
    "\n"
   ]
  }
 ],
 "metadata": {
  "language_info": {
   "name": "python"
  }
 },
 "nbformat": 4,
 "nbformat_minor": 5
}
